{
 "cells": [
  {
   "cell_type": "markdown",
   "metadata": {},
   "source": [
    "# IT Policy"
   ]
  },
  {
   "cell_type": "markdown",
   "metadata": {},
   "source": [
    "#### Policy defines a rule to a country, a group and an organization. IT policy is a specified guideline how employees or client are to approach security and hot certain situaions will be handled."
   ]
  },
  {
   "cell_type": "markdown",
   "metadata": {},
   "source": [
    "## Sections"
   ]
  },
  {
   "cell_type": "markdown",
   "metadata": {},
   "source": [
    "<hr>\n",
    "- [General Policy](#General Policy)\n",
    "- [Practical IT Policy](#Practical-IT-Policy)\n",
    "- [References](#References)\n",
    "<hr>"
   ]
  },
  {
   "cell_type": "markdown",
   "metadata": {},
   "source": [
    "<br>"
   ]
  },
  {
   "cell_type": "markdown",
   "metadata": {},
   "source": [
    "## General Policy"
   ]
  },
  {
   "cell_type": "markdown",
   "metadata": {},
   "source": [
    "[[back to top](#Sections)]"
   ]
  },
  {
   "cell_type": "markdown",
   "metadata": {},
   "source": [
    "<hr>\n",
    "IT Policy is quite complicated concepts for value because, the IT Policy must follow in the laws and links to the laws. Also, it should generate the values. The IT Policy has been built on culture. “Getting organization to have the same culture which is organizational alignment. [2]” In the organization, people must share the same values:\n",
    "<br>\n",
    "- The same rules\n",
    "- The same norms\n",
    "- The same things they respect\n",
    "- The same things that aren't tolerated\n",
    "- The appreciation for the same things (from a purpose and destination standpoint)\n",
    "<hr>"
   ]
  },
  {
   "cell_type": "markdown",
   "metadata": {},
   "source": [
    "<br>"
   ]
  },
  {
   "cell_type": "markdown",
   "metadata": {},
   "source": [
    "## Practical IT Policy"
   ]
  },
  {
   "cell_type": "markdown",
   "metadata": {},
   "source": [
    "[[back to top](#Sections)]"
   ]
  },
  {
   "cell_type": "markdown",
   "metadata": {},
   "source": [
    "<hr>\n",
    "To set up IT policy have been considered vary situations in real life and should be updated by the laws. Thus, in order build up the IT policy is consumed quite huge resources such as regal laws teams and IT professional and stakeholders. However, this\n",
    "paper briefly shows the IT Policy. IT Policy is the regulations that includes laws. It provides guidelines to people who involve the IT system. Generally, IT policy includes Security policies, Access control, Compliance, Operation management, Cultures etc. In my opinion, IT Policy is a set of rules and processes on how organization resources should be used and how their operations should be conducted for their goals. IT Policy is a process to achieve their “vision or goal [3]” for generating values. Thus, the process goals include [1]: \n",
    "<br>\n",
    "- The enterprise is securing optimal value from its portfolio of approved IT-enabled initiatives, services and assets.\n",
    "- Optimal value is derived from IT investment through effective value management practices in the enterprise.\n",
    "- Individual IT-enabled investments contribute optimal value\n",
    "<hr>"
   ]
  },
  {
   "cell_type": "markdown",
   "metadata": {},
   "source": [
    "<br>"
   ]
  },
  {
   "cell_type": "markdown",
   "metadata": {},
   "source": [
    "## References"
   ]
  },
  {
   "cell_type": "markdown",
   "metadata": {},
   "source": [
    "[[back to top](#Sections)]"
   ]
  },
  {
   "cell_type": "markdown",
   "metadata": {},
   "source": [
    "- [1] ISACA, Basic Foundational Concepts Student Book: Using COBIT® 5. 2014\n",
    "- [2] Taylor, A. (2017, July 5). Why are values important for strategic planning? Retrieved June 23, 2018, from https://www.smestrategy.net/blog/why-are-values-important-forstrategic-planning\n",
    "- [3] Camarote, R. (2017, May 23). These 5 Values Should Drive Your Business Strategy. Retrieved June 23, 2018, from https://www.inc.com/robin-camarote/these-5-valuesshould-drive-your-business-strategy.htm"
   ]
  }
 ],
 "metadata": {
  "kernelspec": {
   "display_name": "Python 3",
   "language": "python",
   "name": "python3"
  },
  "language_info": {
   "codemirror_mode": {
    "name": "ipython",
    "version": 3
   },
   "file_extension": ".py",
   "mimetype": "text/x-python",
   "name": "python",
   "nbconvert_exporter": "python",
   "pygments_lexer": "ipython3",
   "version": "3.6.4"
  }
 },
 "nbformat": 4,
 "nbformat_minor": 2
}
