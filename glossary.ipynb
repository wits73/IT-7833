{
 "cells": [
  {
   "cell_type": "markdown",
   "metadata": {},
   "source": [
    "[[Main](main.ipynb)  ||  [Strategy](strategy.ipynb)  ||  [Policy](policy.ipynb)  ||  [Governance](governance.ipynb)  ||  [Bibliography](bibliography.ipynb)  ||  [Glossary](glossary.ipynb)]"
   ]
  },
  {
   "cell_type": "markdown",
   "metadata": {},
   "source": [
    "# Glossary"
   ]
  },
  {
   "cell_type": "markdown",
   "metadata": {},
   "source": [
    "#### The glossary provides clear definitions of specialized terms used in the toolkit so that everyone has a better understanding of the context. "
   ]
  },
  {
   "cell_type": "markdown",
   "metadata": {},
   "source": [
    "## Sections"
   ]
  },
  {
   "cell_type": "markdown",
   "metadata": {},
   "source": [
    "<hr>\n",
    "- [Acronym](#Acronym)\n",
    "- [Term](#Term)\n",
    "- [Dictionary](#Dictionary)\n",
    "- [Conclusion](#Conclusion)\n",
    "- [References](#References)\n",
    "<hr>"
   ]
  },
  {
   "cell_type": "markdown",
   "metadata": {},
   "source": [
    "<br>"
   ]
  },
  {
   "cell_type": "markdown",
   "metadata": {},
   "source": [
    "## Acronym"
   ]
  },
  {
   "cell_type": "markdown",
   "metadata": {},
   "source": [
    "[[back to top](#Sections)]"
   ]
  },
  {
   "cell_type": "markdown",
   "metadata": {},
   "source": [
    "<hr>\n",
    "- COBIT: Control Objectives for Information and related Technology\n",
    "- CSF: Critical Success Factors\n",
    "- CSI: Continual Service Improvement\n",
    "- ITIL: Information Technology Infrastructure Library\n",
    "- IT BSC: IT balanced scorecard\n",
    "- OS&A: Operational Support and Analysis\n",
    "- PP&O: Planning, Protection and Optimization\n",
    "- RACI Model: Responsible Accountable Consulted Informed\n",
    "- RCV: Release, Control and Validation\n",
    "- ROI: Return on Investment\n",
    "- SLA: Service Level Agreement\n",
    "- SDP: Service Design Package\n",
    "- SO&A: Service Offerings and Agreement\n",
    "- SWOT: Strengths Weaknesses Opportunities Threats\n",
    "<hr>"
   ]
  },
  {
   "cell_type": "markdown",
   "metadata": {},
   "source": [
    "<br>"
   ]
  },
  {
   "cell_type": "markdown",
   "metadata": {},
   "source": [
    "## Term"
   ]
  },
  {
   "cell_type": "markdown",
   "metadata": {},
   "source": [
    "[[back to top](#Sections)]"
   ]
  },
  {
   "cell_type": "markdown",
   "metadata": {},
   "source": [
    "<hr>\n",
    "- Balanced scorecard - “Use of an IT balanced scorecard (IT BSC) is one of the most effective means to aid the board and management to achieve IT and business alignment. The objectives are to establish a vehicle for management reporting to the board; foster consensus amongst key stakeholders about IT’s strategic aims; demonstrate the effectiveness and added value of IT”\n",
    "- IT risk - A risk management is very important element that should be controlled in IT Governance\n",
    "- Brainstorming - Is a useful technique and method to solve or build the ideas which efforts are made to find a conclusion for a specific problem by gathering a list of ideas spontaneously contributed by its members.\n",
    "- SWOT Analysis - This is very powerful method to identify your strengths and weaknesses and base on the list, you can make list for opportunities and threats. Thus, it is quite useful technique for building IT Strategy.\n",
    "- Agile uses the best process through “teams, customer involvement, and the ability to analyze and quickly control changes to the project scope at inception and throughout the lifecycle of the project.\n",
    "- Waterfall is traditional methodology that assign a project with clearly set goals and timelines and it is not allowing to change scope.\n",
    "- Change management “helps a company prepare for planned and unplanned changes. This change can be forced upon an organization from both internal or external factors.\n",
    "- Risk management described as identifying risks, measuring their potential for harm, and creating plans to deal with the threats.\n",
    "- Quality management has two goals ensuring a quality end-product and ensuring that all of the process involved during the project lifecycle are carried out efficiently.\n",
    "- PRINCE2 developed in the United Kingdom includes six variables, “costs, timescales, quality, scope, risk, and benefits.\n",
    "- Six Sigma defines “statistical concept that measures a process in terms of defects. Agile developed through Six Sigma.\n",
    "<hr>"
   ]
  },
  {
   "cell_type": "markdown",
   "metadata": {},
   "source": [
    "## Dictionary"
   ]
  },
  {
   "cell_type": "markdown",
   "metadata": {},
   "source": [
    "[[back to top](#Sections)]"
   ]
  },
  {
   "cell_type": "markdown",
   "metadata": {},
   "source": [
    "<hr>\n",
    "- Business case-  justification for a proposed project or undertaking on the basis of its expected commercial benefit\n",
    "- Business model- a design for the successful operation of a business, identifying revenue sources, customer base, products, and details of financing\n",
    "- Case Study- a process or record of research in which detailed consideration is given to the development of a particular person, group, or situation over a period of time\n",
    "- Cognition- the mental action or process of acquiring knowledge and understanding through thought, experience, and the senses\n",
    "- Ergonomics- the study of people's efficiency in their working environment\n",
    "- Evaluation- the making of a judgment about the amount, number, or value of something; assessment\n",
    "- Feedback- a response to an question or inquiry\n",
    "- Grossary- an alphabetical list of terms or words found in or relating to a specific subject, text, or dialect, with explanations\n",
    "<hr>"
   ]
  },
  {
   "cell_type": "markdown",
   "metadata": {},
   "source": [
    "<br>"
   ]
  },
  {
   "cell_type": "markdown",
   "metadata": {},
   "source": [
    "## Conclusion"
   ]
  },
  {
   "cell_type": "markdown",
   "metadata": {},
   "source": [
    "[[back to top](#Sections)]"
   ]
  },
  {
   "cell_type": "markdown",
   "metadata": {},
   "source": [
    "<hr>\n",
    "A glossary that defines terms for my IT toolkit is very important for my own personal use as well as for other professionals interested in the toolkit. The glossary provides clear definitions of specialized terms used in the toolkit so that everyone has a better understanding of the context. Using a glossary in my toolkit will also ensure a consistent style throughout the project.\n",
    "<hr>"
   ]
  },
  {
   "cell_type": "markdown",
   "metadata": {},
   "source": [
    "<br>"
   ]
  },
  {
   "cell_type": "markdown",
   "metadata": {},
   "source": [
    "## References"
   ]
  },
  {
   "cell_type": "markdown",
   "metadata": {},
   "source": [
    "[[back to top](#Sections)]"
   ]
  },
  {
   "cell_type": "markdown",
   "metadata": {},
   "source": [
    "<hr>\n",
    "- [1] IT Governance Institute, IT Governance Using COBIT and ValIT: Student Book, 2nd Edition. 2007\n",
    "- [2] ISACA, Basic Foundational Concepts Student Book: Using COBIT® 5. 2014\n",
    "- [3] Taylor, A. (2017, July 5). Why are values important for strategic planning? Retrieved June 23, 2018, from https://www.smestrategy.net/blog/why-are-values-important-forstrategicplanning\n",
    "- [4] Camarote, R. (2017, May 23). These 5 Values Should Drive Your Business Strategy. Retrieved June 23, 2018, from https://www.inc.com/robin-camarote/these-5-valuesshould-driveyour-business-strategy.html\n",
    "- [5] Rae, B. (2018, March 05). Blending business strategy and ITSM for transformational value. Retrieved June 23, 2018, from https://www.cio.com/article/3259874/itstrategy/blendingbusiness-strategy-and-itsm-for-transformational-value.html\n",
    "- [6] Scheid, J., & McDonough, M. (2015, July 22). Project Management Methodologies Comparison: Pros and Cons of Various PM Methods. Retrieved June 23, 2018, from https://www.brighthubpm.com/methods-strategies/67087-project-managementmethodologieshow-do-they-compare/\n",
    "- [7] Atlassian. (n.d.). What is DevOps? Retrieved June 9, 2018, from https://www.atlassian.com/devops\n",
    "- [8] CI/CD. (2017, February 16). Retrieved June 9, 2018, from https://www.docker.com/usecases/cicd\n",
    "- [9] Cornell University Library Tutorial on Annotated Bibliographies: Retrieved from http://guides.library.cornell.edu/annotatedbibliography on 22 June 2016.\n",
    "- [10] Rae, B. (2018, March 05). Blending business strategy and ITSM for transformational value. Retrieved June 23, 2018, from https://www.cio.com/article/3259874/itstrategy/blendingbusiness-strategy-and-itsm-for-transformational-value.html\n",
    "- [11] Scheid, J., & McDonough, M. (2015, July 22). Project Management Methodologies Comparison: Pros and Cons of Various PM Methods. Retrieved June 23, 2018, from https://www.brighthubpm.com/methods-strategies/67087-project-managementmethodologieshow-do-they-compare/\n",
    "- [12] BSC Institute. (n.d.). What is the Balanced Scorecard? Retrieved July 14, 2018, from http://www.balancedscorecard.org/BSC-Basics/About-the-Balanced-Scorecard\n",
    "- [13] High, P. (2016, November 08). Five Steps To A Better IT Strategy. Retrieved July 13, 2018, from https://www.forbes.com/sites/peterhigh/2016/11/07/five-steps-to-a-better-it-strategy/#214aa9245d5f\n",
    "- [14] Mind Tools Contents Team. (n.d.). SWOT AnalysisDiscover New Opportunities, Manage and Eliminate Threats. Retrieved July 14, 2018, from https://www.mindtools.com/pages/article/newTMC_05.htm\n",
    "- [15] Ghanbari, M. (2014, June 16). Business Goals vs. Objectives vs. Strategies vs. Tactics. Retrieved July 14, 2018, from https://www.linkedin.com/pulse/20140616055721-142774715-business-goals-vs-objectives-vs-strategies-vs-tactics/\n",
    "- [16] MSG. (n.d.). MSG Management  Study  Guide. Retrieved July 14, 2018, from https://www.managementstudyguide.com/strategy-evaluation.htm\n",
    "- [17] Taylor, A. (2017, July 5). Why are values important for strategic planning? Retrieved June 23, 2018, from https://www.smestrategy.net/blog/why-are-values-important-forstrategic-planning\n",
    "- [18] Camarote, R. (2017, May 23). These 5 Values Should Drive Your Business Strategy. Retrieved June 23, 2018, from https://www.inc.com/robin-camarote/these-5-valuesshould-drive-your-business-strategy.htm\n",
    "<hr>"
   ]
  }
 ],
 "metadata": {
  "kernelspec": {
   "display_name": "Python 3",
   "language": "python",
   "name": "python3"
  },
  "language_info": {
   "codemirror_mode": {
    "name": "ipython",
    "version": 3
   },
   "file_extension": ".py",
   "mimetype": "text/x-python",
   "name": "python",
   "nbconvert_exporter": "python",
   "pygments_lexer": "ipython3",
   "version": "3.6.4"
  }
 },
 "nbformat": 4,
 "nbformat_minor": 2
}
