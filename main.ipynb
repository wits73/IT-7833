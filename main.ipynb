{
 "cells": [
  {
   "cell_type": "markdown",
   "metadata": {},
   "source": [
    "[[Main](main.ipynb)  ||  [Strategy](strategy.ipynb)  ||  [Policy](policy.ipynb)  ||  [Governance](governance.ipynb)  ||  [Bibliography](bibliography.ipynb)  ||  [Glossary](glossary.ipynb)]"
   ]
  },
  {
   "cell_type": "markdown",
   "metadata": {},
   "source": [
    "# IT Professional Toolkit"
   ]
  },
  {
   "cell_type": "markdown",
   "metadata": {},
   "source": [
    "## Sections"
   ]
  },
  {
   "cell_type": "markdown",
   "metadata": {},
   "source": [
    "<hr>\n",
    "- [IT Strategy](#About-IT-Strategy)\n",
    "- [IT Policy](#About-IT-Policy)\n",
    "- [IT Governance](#About-IT-Governance)\n",
    "- [Annotated Bibliographies](#Annotated-Bibliographies)\n",
    "- [Glossary](#Glossary)\n",
    "- [References](#References)\n",
    "<hr>"
   ]
  },
  {
   "cell_type": "markdown",
   "metadata": {},
   "source": [
    "<br>"
   ]
  },
  {
   "cell_type": "markdown",
   "metadata": {},
   "source": [
    "## About IT Strategy"
   ]
  },
  {
   "cell_type": "markdown",
   "metadata": {},
   "source": [
    "[[back to top](#Sections)]"
   ]
  },
  {
   "cell_type": "markdown",
   "metadata": {},
   "source": [
    "<hr>\n",
    "According to the text book, the strategic alignment in IT must be “in harmony with its strategic objectives (intent, current strategy and enterprise goals) to build the capabilities necessary to deliver business value.” In this era, without IT technologies, organization could not build the strategies because people cannot gather the massive data from themselves and\n",
    "competitors and customers to analyze the data. To build IT Strategy start with knowing inside and outside both. Thus, without IT technology, an organization cannot even start building the IT Strategy.\n",
    "<hr>"
   ]
  },
  {
   "cell_type": "markdown",
   "metadata": {},
   "source": [
    "<br>"
   ]
  },
  {
   "cell_type": "markdown",
   "metadata": {},
   "source": [
    "## About IT Policy"
   ]
  },
  {
   "cell_type": "markdown",
   "metadata": {},
   "source": [
    "[[back to top](#Sections)]"
   ]
  },
  {
   "cell_type": "markdown",
   "metadata": {},
   "source": [
    "<hr>\n",
    "IT Policy is quite complicated concepts for value because, the IT Policy must follow in the laws and links to the laws. Also, it should generate the values. The IT Policy has been built on culture. “Getting organization to have the same culture which is organizational alignment.” In the organization, people must share the same values:\n",
    "<hr>"
   ]
  },
  {
   "cell_type": "markdown",
   "metadata": {},
   "source": [
    "- The same rules\n",
    "- The same norms\n",
    "- The same things they respect\n",
    "- The same things that aren't tolerated\n",
    "- The appreciation for the same things (from a purpose and destination standpoint)"
   ]
  },
  {
   "cell_type": "markdown",
   "metadata": {},
   "source": [
    "<br>"
   ]
  },
  {
   "cell_type": "markdown",
   "metadata": {},
   "source": [
    "## About IT Governance"
   ]
  },
  {
   "cell_type": "markdown",
   "metadata": {},
   "source": [
    "[[back to top](#Sections)]"
   ]
  },
  {
   "cell_type": "markdown",
   "metadata": {},
   "source": [
    "<hr>\n",
    "According to famous quote of Leo Tolstoy. “Writing law is easy, but governing is difficult.” IT Governance is the hardest part to harmony that every element needs to put together and working together. “IT governance inherently improves the level and rate of return on IT investments. The IT governance that processes provide helps enterprises to invest wisely, control costs more effectively and adjust priorities based on changing business strategies.” Also, according the textbook, there are three governance practices that maximize the benefits delivery costs.\n",
    "<hr>"
   ]
  },
  {
   "cell_type": "markdown",
   "metadata": {},
   "source": [
    "- Managing the fundamental parts of IT infrastructure  \n",
    "- Developed within and organization\n",
    "- Implementing throughout its management \n",
    "- Promote efficiency"
   ]
  },
  {
   "cell_type": "markdown",
   "metadata": {},
   "source": [
    "<br>"
   ]
  },
  {
   "cell_type": "markdown",
   "metadata": {},
   "source": [
    "## Annotated Bibliographies"
   ]
  },
  {
   "cell_type": "markdown",
   "metadata": {},
   "source": [
    "[[back to top](#Sections)]"
   ]
  },
  {
   "cell_type": "markdown",
   "metadata": {},
   "source": [
    "<hr>\n",
    "“An annotated bibliography is a list of citations to books, articles, and documents.” Thus, the list of annotated bibliographies are provided for informing “the reader of the relevance, accuracy, and quality of the sources cited.”\n",
    "<hr>"
   ]
  },
  {
   "cell_type": "markdown",
   "metadata": {},
   "source": [
    "- DevOps [[Link to DevOps](.bibliography.ipynb#DevOps)]\n",
    "- CI/CD [[Link to CI/CD](.bibliography.ipynb#CI/CD)]\n",
    "- Blending business strategy and ITSM [[Link to Blending business strategy and ITSM](.bibliography.ipynb#Blending-Business-Strategy-and-ITSM)]\n",
    "- Project Management Methodologies Comparison [[Link to Project Management Methodologies Comparison](.bibliography.ipynb#Project-Management-Methodologies-Comparison)]"
   ]
  },
  {
   "cell_type": "markdown",
   "metadata": {},
   "source": [
    "<br>"
   ]
  },
  {
   "cell_type": "markdown",
   "metadata": {},
   "source": [
    "## Glossary"
   ]
  },
  {
   "cell_type": "markdown",
   "metadata": {},
   "source": [
    "[[back to top](#Sections)]"
   ]
  },
  {
   "cell_type": "markdown",
   "metadata": {},
   "source": [
    "<hr>\n",
    "A glossary that defines terms for my IT toolkit is very important for my own personal use as well as for other professionals interested in the toolkit. The glossary provides clear definitions of specialized terms used in the toolkit so that everyone has a better understanding of the context. Using a glossary in my toolkit will also ensure a consistent style throughout the project.\n",
    "<hr>"
   ]
  },
  {
   "cell_type": "markdown",
   "metadata": {},
   "source": [
    "<br>"
   ]
  },
  {
   "cell_type": "markdown",
   "metadata": {},
   "source": [
    "## References"
   ]
  },
  {
   "cell_type": "markdown",
   "metadata": {},
   "source": [
    "[[back to top](#Sections)]"
   ]
  },
  {
   "cell_type": "markdown",
   "metadata": {},
   "source": [
    "<hr>\n",
    "- [1] IT Governance Institute, IT Governance Using COBIT and ValIT: Student Book, 2nd Edition. 2007\n",
    "- [2] ISACA, Basic Foundational Concepts Student Book: Using COBIT® 5. 2014\n",
    "- [3] Taylor, A. (2017, July 5). Why are values important for strategic planning? Retrieved June 23, 2018, from https://www.smestrategy.net/blog/why-are-values-important-forstrategicplanning\n",
    "- [4] Camarote, R. (2017, May 23). These 5 Values Should Drive Your Business Strategy. Retrieved June 23, 2018, from https://www.inc.com/robin-camarote/these-5-valuesshould-driveyour-business-strategy.html\n",
    "- [5] Rae, B. (2018, March 05). Blending business strategy and ITSM for transformational value. Retrieved June 23, 2018, from https://www.cio.com/article/3259874/itstrategy/blendingbusiness-strategy-and-itsm-for-transformational-value.html\n",
    "- [6] Scheid, J., & McDonough, M. (2015, July 22). Project Management Methodologies Comparison: Pros and Cons of Various PM Methods. Retrieved June 23, 2018, from https://www.brighthubpm.com/methods-strategies/67087-project-managementmethodologieshow-do-they-compare/\n",
    "- [7] Atlassian. (n.d.). What is DevOps? Retrieved June 9, 2018, from https://www.atlassian.com/devops\n",
    "- [8] CI/CD. (2017, February 16). Retrieved June 9, 2018, from https://www.docker.com/usecases/cicd\n",
    "- [9] Cornell University Library Tutorial on Annotated Bibliographies: Retrieved from http://guides.library.cornell.edu/annotatedbibliography on 22 June 2016.\n",
    "- [10] Rae, B. (2018, March 05). Blending business strategy and ITSM for transformational value. Retrieved June 23, 2018, from https://www.cio.com/article/3259874/itstrategy/blendingbusiness-strategy-and-itsm-for-transformational-value.html\n",
    "- [11] Scheid, J., & McDonough, M. (2015, July 22). Project Management Methodologies Comparison: Pros and Cons of Various PM Methods. Retrieved June 23, 2018, from https://www.brighthubpm.com/methods-strategies/67087-project-managementmethodologieshow-do-they-compare/\n",
    "<hr>"
   ]
  }
 ],
 "metadata": {
  "kernelspec": {
   "display_name": "Python 3",
   "language": "python",
   "name": "python3"
  },
  "language_info": {
   "codemirror_mode": {
    "name": "ipython",
    "version": 3
   },
   "file_extension": ".py",
   "mimetype": "text/x-python",
   "name": "python",
   "nbconvert_exporter": "python",
   "pygments_lexer": "ipython3",
   "version": "3.6.4"
  }
 },
 "nbformat": 4,
 "nbformat_minor": 2
}
