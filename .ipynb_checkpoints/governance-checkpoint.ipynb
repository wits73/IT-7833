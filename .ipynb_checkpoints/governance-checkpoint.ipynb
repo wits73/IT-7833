{
 "cells": [
  {
   "cell_type": "markdown",
   "metadata": {},
   "source": [
    "# IT Governance"
   ]
  },
  {
   "cell_type": "markdown",
   "metadata": {},
   "source": [
    "#### According to famous quote of Leo Tolstoy. “Writing law is easy, but governing is difficult.” IT Governance is the hardest part to harmony that every element needs to put together and working together"
   ]
  },
  {
   "cell_type": "markdown",
   "metadata": {},
   "source": [
    "## Sections"
   ]
  },
  {
   "cell_type": "markdown",
   "metadata": {},
   "source": [
    "<hr>\n",
    "- [Overview](#Overview)\n",
    "- [Meeting Stakeholder Needs](#Meeting-Stakeholder-Needs)\n",
    "- [Covering the Enterprise](#Covering-the-Enterprise) \n",
    "- [Applying a Single Integrated Framework](#Applying-a-Single-Integrated-Framework)\n",
    "- [Enabling a Holistic Approach](#Enabling-a-Holistic-Approach)\n",
    "- [Separating Governance From Management](#Separating-Governance-From-Management)\n",
    "- [Evaluating value optimisation](#Evaluating-value-optimisation)\n",
    "- [Direct value optimisation](#Direct-value-optimisation)\n",
    "- [Monitoring value optimisation](#Monitoring-value-optimisation)\n",
    "- [Conclusion](#Conclusion)\n",
    "- [References](#References)\n",
    "<hr>"
   ]
  },
  {
   "cell_type": "markdown",
   "metadata": {},
   "source": [
    "<br>"
   ]
  },
  {
   "cell_type": "markdown",
   "metadata": {},
   "source": [
    "## Overview"
   ]
  },
  {
   "cell_type": "markdown",
   "metadata": {},
   "source": [
    "[[back to top](#Sections)]"
   ]
  },
  {
   "cell_type": "markdown",
   "metadata": {},
   "source": [
    "<hr>\n",
    "\"The overall objective of IT governance is to understand the issues and strategic importance of IT [1]\" It drives IT behaviors that maximizing benefits and responsible use of IT resources and appropriate management of IT-related risks. COBIT 5 will be best practices for IT Governance because the COBIT 5 principles provide appropriated principle to organizations. These are the “COBIT 5 Principles [2]” Also, IT governance needs to improve \"the level and rate of return on IT investments. The IT governance that processes provide helps enterprises to invest wisely, control costs more effectively and adjust priorities based on changing business strategies.[2]\" Thus, according the textbook, there are three governance practices that maximize the benefits delivery costs.\n",
    "<hr>"
   ]
  },
  {
   "cell_type": "markdown",
   "metadata": {},
   "source": [
    "<br>"
   ]
  },
  {
   "cell_type": "markdown",
   "metadata": {},
   "source": [
    "## Meeting Stakeholder Needs"
   ]
  },
  {
   "cell_type": "markdown",
   "metadata": {},
   "source": [
    "[[back to top](#Sections)]"
   ]
  },
  {
   "cell_type": "markdown",
   "metadata": {},
   "source": [
    "<hr>\n",
    "IT Governance should provide all kind of processes to their organization. \"To verify whether stakeholder needs are indeed being met, a sound measurement process (feasible, reliable and understandable metrics) should be established. Stakeholder needs can be related to a set of generic enterprise goals [1]\" In order to verify it, in my opinion, balanced scorecard is very good metric to organization and \"the balanced scorecard (BSC) is a strategic planning and management system that organizations use to: [3]\"\n",
    "<br>\n",
    "- Communicate what they are trying to accomplish\n",
    "- Align the day-to-day work that everyone is doing with strategy\n",
    "- Prioritize projects, products, and services\n",
    "- Measure and monitor progress towards strategic targets\n",
    "<hr>"
   ]
  },
  {
   "cell_type": "markdown",
   "metadata": {},
   "source": [
    "<br>"
   ]
  },
  {
   "cell_type": "markdown",
   "metadata": {},
   "source": [
    "## Covering the Enterprise"
   ]
  },
  {
   "cell_type": "markdown",
   "metadata": {},
   "source": [
    "[[back to top](#Sections)]"
   ]
  },
  {
   "cell_type": "markdown",
   "metadata": {},
   "source": [
    "<hr>\n",
    "\"Business managers should take on responsibility for managing their IT-related assets just as they do for other assets, such as physical plant (refers to the necessary infrastructure used in support and maintenance of a given facility) and financial and\n",
    "human resource assets, within their own organisational units and functions. A focus on covering the enterprise end-to-end comprises a move from managing IT as a cost to managing IT as an asset. [1]\"\n",
    "<hr>"
   ]
  },
  {
   "cell_type": "markdown",
   "metadata": {},
   "source": [
    "<br>"
   ]
  },
  {
   "cell_type": "markdown",
   "metadata": {},
   "source": [
    "## Applying a Single Integrated Framework"
   ]
  },
  {
   "cell_type": "markdown",
   "metadata": {},
   "source": [
    "[[back to top](#Sections)]"
   ]
  },
  {
   "cell_type": "markdown",
   "metadata": {},
   "source": [
    "<hr>\n",
    "Accoring to the text book, the book recommends applying a single integrated framework that should align other framework. \"COBIT 5 aligns with other relevant standards and frameworks at a high level and thus can serve as\n",
    "the overarching framework for GEIT. [1]\"\n",
    "<br>\n",
    "- Align, Plan and Organise (APO)—Concerns the identification of how IT can best contribute to the achievement of the business objectives\n",
    "- Build, Acquire and Implement (BAI)—Makes IT strategy concrete by identifying the requirements for IT and managing the IT investment programme and projects within that programme\n",
    "- Deliver, Service and Support (DSS)—Refers to the actual delivery of the IT services required to meet strategic and tactical plans\n",
    "- Monitor, Evaluate and Assess (MEA)—Includes processes that are responsible for the assessment of process performance and conformance, evaluation of internal control adequacy, and monitoring of regulatory compliance\n",
    "<hr>"
   ]
  },
  {
   "cell_type": "markdown",
   "metadata": {},
   "source": [
    "<br>"
   ]
  },
  {
   "cell_type": "markdown",
   "metadata": {},
   "source": [
    "## Enabling a Holistic Approach"
   ]
  },
  {
   "cell_type": "markdown",
   "metadata": {},
   "source": [
    "[[back to top](#Sections)]"
   ]
  },
  {
   "cell_type": "markdown",
   "metadata": {},
   "source": [
    "<hr>\n",
    "More efficience and effectiveness, the process requires a holistic approach. \"In applying this organisational system theory to GEIT, enterprises are deploying it using a holistic mixture of structures, processes and relational mechanisms. GEIT structures include organisational units and roles responsible for making IT-related decisions and for enabling contacts between\n",
    "business and IT management decision-making functions (e.g., IT steering committee) [1]\"\n",
    "<hr>"
   ]
  },
  {
   "cell_type": "markdown",
   "metadata": {},
   "source": [
    "<br>"
   ]
  },
  {
   "cell_type": "markdown",
   "metadata": {},
   "source": [
    "## Separating Governance From Management"
   ]
  },
  {
   "cell_type": "markdown",
   "metadata": {},
   "source": [
    "[[back to top](#Sections)]"
   ]
  },
  {
   "cell_type": "markdown",
   "metadata": {},
   "source": [
    "<hr>\n",
    "\"From its foundation in the IT audit community, COBIT has become a broader and comprehensive IT governance and management framework and continues to establish itself as a generally accepted framework for IT governance. [1]\"\n",
    "<hr>"
   ]
  },
  {
   "cell_type": "markdown",
   "metadata": {},
   "source": [
    "<br>"
   ]
  },
  {
   "cell_type": "markdown",
   "metadata": {},
   "source": [
    "## Evaluating value optimisation"
   ]
  },
  {
   "cell_type": "markdown",
   "metadata": {},
   "source": [
    "[[back to top](#Sections)]"
   ]
  },
  {
   "cell_type": "markdown",
   "metadata": {},
   "source": [
    "<hr>\n",
    "\"Continually evaluate the portfolio of ITenabled investments, services and assets to determine the likelihood of\n",
    "achieving enterprise objectives and delivering value at a reasonable cost. Identify and make judgement on any changes in direction that need to be given to management to optimise value creation. [2]\" \n",
    "<hr>"
   ]
  },
  {
   "cell_type": "markdown",
   "metadata": {},
   "source": [
    "<br>"
   ]
  },
  {
   "cell_type": "markdown",
   "metadata": {},
   "source": [
    "## Direct value optimisation"
   ]
  },
  {
   "cell_type": "markdown",
   "metadata": {},
   "source": [
    "[[back to top](#Sections)]"
   ]
  },
  {
   "cell_type": "markdown",
   "metadata": {},
   "source": [
    "<hr>\n",
    "\"Direct value management principles and practices enable optimal value realisation from IT-enabled investments\n",
    "throughout their full economic life cycles. [2]\" \n",
    "<hr>"
   ]
  },
  {
   "cell_type": "markdown",
   "metadata": {},
   "source": [
    "<br>"
   ]
  },
  {
   "cell_type": "markdown",
   "metadata": {},
   "source": [
    "## Monitoring value optimisation"
   ]
  },
  {
   "cell_type": "markdown",
   "metadata": {},
   "source": [
    "[[back to top](#Sections)]"
   ]
  },
  {
   "cell_type": "markdown",
   "metadata": {},
   "source": [
    "<hr>\n",
    "\"Monitor the key goals and metrics to determine the extent to which the business is generating the expected\n",
    "value and benefits to the enterprise from ITenabled investments and services. Identify significant issues and consider corrective actions. [2]\"\n",
    "<hr>"
   ]
  },
  {
   "cell_type": "markdown",
   "metadata": {},
   "source": [
    "<br>"
   ]
  },
  {
   "cell_type": "markdown",
   "metadata": {},
   "source": [
    "## Conclusion"
   ]
  },
  {
   "cell_type": "markdown",
   "metadata": {},
   "source": [
    "[[back to top](#Sections)]"
   ]
  },
  {
   "cell_type": "markdown",
   "metadata": {},
   "source": [
    "<hr>\n",
    "IT Governance provides the structures or frames on the setting of IT objects. IT Governance tools would help people such as board members and management people to understand better ways about IT so the people can make a right decision for their organization for current situations they faced and for the future. In my opinion, IT Governance governs\n",
    "with the IT Strategy and IT Policy both.\n",
    "<hr>"
   ]
  },
  {
   "cell_type": "markdown",
   "metadata": {},
   "source": [
    "<br>"
   ]
  },
  {
   "cell_type": "markdown",
   "metadata": {},
   "source": [
    "## References"
   ]
  },
  {
   "cell_type": "markdown",
   "metadata": {},
   "source": [
    "[[back to top](#Sections)]"
   ]
  },
  {
   "cell_type": "markdown",
   "metadata": {},
   "source": [
    "- [1] IT Governance Institute, IT Governance Using COBIT and ValIT: Student Book, 2nd Edition. 2007\n",
    "- [2] ISACA, Basic Foundational Concepts Student Book: Using COBIT® 5. 2014\n",
    "- [3] BSC Institute. (n.d.). What is the Balanced Scorecard? Retrieved July 14, 2018, from http://www.balancedscorecard.org/BSC-Basics/About-the-Balanced-Scorecard\n"
   ]
  }
 ],
 "metadata": {
  "kernelspec": {
   "display_name": "Python 3",
   "language": "python",
   "name": "python3"
  },
  "language_info": {
   "codemirror_mode": {
    "name": "ipython",
    "version": 3
   },
   "file_extension": ".py",
   "mimetype": "text/x-python",
   "name": "python",
   "nbconvert_exporter": "python",
   "pygments_lexer": "ipython3",
   "version": "3.6.4"
  }
 },
 "nbformat": 4,
 "nbformat_minor": 2
}
