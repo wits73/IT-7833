{
 "cells": [
  {
   "cell_type": "markdown",
   "metadata": {},
   "source": [
    "# IT Strategy"
   ]
  },
  {
   "cell_type": "markdown",
   "metadata": {},
   "source": [
    "#### IT strategy is the discipline that defines how IT will be used to help businesses win in their chosen business context."
   ]
  },
  {
   "cell_type": "markdown",
   "metadata": {},
   "source": [
    "## Sections"
   ]
  },
  {
   "cell_type": "markdown",
   "metadata": {},
   "source": [
    "<hr>\n",
    "- [Create an IT Mission](#About-IT-Strategy)\n",
    "- [Work with the Rest of the Enterprise on Their Plans](#About-IT-Policy)\n",
    "- [SWOT Analysis](#SWOT-Analysis) \n",
    "- [Develop IT’s Own Strategy](#About-IT-Governance)\n",
    "- [Employ Enterprise Architecture](#Annotated-Bibliographies)\n",
    "- [Business Objectives](#Business-Objectives)\n",
    "- [Improve the Ability to Communicate Those Plans](#Improve-the-Ability-to-Communicate-Those-Plans)\n",
    "- [Strategy Evaluation](#Strategy-Evaluation)\n",
    "- [References](#References)\n",
    "<hr>"
   ]
  },
  {
   "cell_type": "markdown",
   "metadata": {},
   "source": [
    "## Create an IT Mission"
   ]
  },
  {
   "cell_type": "markdown",
   "metadata": {},
   "source": [
    "<hr>\n",
    "Think about mission. Without mission, people cannot do anything because there is no purpose and goals. Thus, it is the most importance factor to build the IT strategy and the mission makes people move to goals. \"This is hallmark of a great IT strategy: one that governs daily decisions drives behavioral norms. A great IT mission ought to be used in the recruiting process to gauge cultural fit; it should be used as part of the evaluation of staff; it should even be used to gauge fit of strategic vendor partners.[1]\"\n",
    "<hr>"
   ]
  },
  {
   "cell_type": "markdown",
   "metadata": {},
   "source": [
    "## Work with the Rest of the Enterprise on Their Plans"
   ]
  },
  {
   "cell_type": "markdown",
   "metadata": {},
   "source": [
    "<hr>\n",
    "\"There is no division of the company that does not need technology to breathe life into its strategies. As a result, IT needs to work with each of the other divisions of the company, from Finance to Human Resources to Marketing to Sales to Operations to Product and Service divisions. [1]\" I agree with this point of views. IT has to work and engage together with others departments. \n",
    "<hr>"
   ]
  },
  {
   "cell_type": "markdown",
   "metadata": {},
   "source": [
    "<bt>"
   ]
  },
  {
   "cell_type": "markdown",
   "metadata": {},
   "source": [
    "## SWOT Analysis"
   ]
  },
  {
   "cell_type": "markdown",
   "metadata": {},
   "source": [
    "<hr>\n",
    "SWOT Analysis is simple and powerful tool for \"understanding your Strengths and Weaknesses, and for identifying both the Opportunities open to you and the Threats you face.[2]\" The tools is very easy to use and every body can practice with pen and paper.\n",
    "<hr>"
   ]
  },
  {
   "cell_type": "markdown",
   "metadata": {},
   "source": [
    "<br>"
   ]
  },
  {
   "cell_type": "markdown",
   "metadata": {},
   "source": [
    "## Develop IT’s Own Strategy"
   ]
  },
  {
   "cell_type": "markdown",
   "metadata": {},
   "source": [
    "<hr>\n",
    "\"With IT’s mission firmly in mind, and with the insights garnered from having helped shape the strategies of the other divisions of the company and at the enterprise level, IT must develop it's own plan. In addition to the inputs from the rest of the company, IT should also conduct research into rising trends in IT more generally\"\n",
    "<br>\n",
    "<br>\n",
    "- Cyber threats have become more sophisticated and persistent\n",
    "- Our company is now global\n",
    "- Technology continues to innovate at a staggering pace\n",
    "- Clients continue to expect even more from IT\n",
    "- The war for technical talent continues to rage;\n",
    "- Volatility in our industry has become a constant.\n",
    "<hr>"
   ]
  },
  {
   "cell_type": "markdown",
   "metadata": {},
   "source": [
    "<br>"
   ]
  },
  {
   "cell_type": "markdown",
   "metadata": {},
   "source": [
    "## Business Objectives"
   ]
  },
  {
   "cell_type": "markdown",
   "metadata": {},
   "source": [
    "<hr>\n",
    "\"Business objective differs from business goal in the sense that they are measurable and specific. It actually quantifies the thoughts and sets a target so that the strategy can be planned around it. In other words, objectives are measurable steps an organisation takes to achieve its goals.[3]\"\n",
    "<hr>"
   ]
  },
  {
   "cell_type": "markdown",
   "metadata": {},
   "source": [
    "<br>"
   ]
  },
  {
   "cell_type": "markdown",
   "metadata": {},
   "source": [
    "## Employ Enterprise Architecture"
   ]
  },
  {
   "cell_type": "markdown",
   "metadata": {},
   "source": [
    "<hr>\n",
    "\"Enterprise architecture or EA has become an essential method of translating strategy into action, while all the while simplifying and securing the enterprise. This is perhaps best explained in Peter Weill, Jeanne Ross, and David Robertson's book Enterprise Architecture as Strategy.\"\n",
    "<br>\n",
    "This change will not be for everyone, but he notes the following advantages of pursuing this model:\n",
    "<br>\n",
    "- Provides specific business outcome focus and alignment between EA and Solution delivery\n",
    "- Enables consistent EA from idea to implementation for each solution – tighter with SAs\n",
    "- Strengthens ties between business operations and IT for faster solution delivery\n",
    "<br>\n",
    "He also is candid about the challenges:\n",
    "<br>\n",
    "- Risk of weak governance practices to drive appropriate EA consistency across business units\n",
    "- Risk of fragmentation of clean platform strategy without clear ownership of EA roadmap, policies, and practices\n",
    "<hr>"
   ]
  },
  {
   "cell_type": "markdown",
   "metadata": {},
   "source": [
    "<br>"
   ]
  },
  {
   "cell_type": "markdown",
   "metadata": {},
   "source": [
    "## Strategy Evaluation"
   ]
  },
  {
   "cell_type": "markdown",
   "metadata": {},
   "source": [
    "<hr>\n",
    "\"Strategy Evaluation is as significant as strategy formulation because it throws light on the efficiency and effectiveness of the comprehensive plans in achieving the desired results. [4]\"\n",
    "<br>\n",
    "- ixing benchmark of performance\n",
    "- Measurement of performance\n",
    "- Analyzing Variance\n",
    "- Taking Corrective Action\n",
    "<hr>"
   ]
  },
  {
   "cell_type": "markdown",
   "metadata": {},
   "source": [
    "<br>"
   ]
  },
  {
   "cell_type": "markdown",
   "metadata": {},
   "source": [
    "## Improve the Ability to Communicate Those Plans"
   ]
  },
  {
   "cell_type": "markdown",
   "metadata": {},
   "source": [
    "<hr>\n",
    "\"The last step in this process is to communicate the plans. It may seem like a \"no-brainer,\" but you would be surprised by the number of well formulated IT strategies that do not end up yielding the value anticipated because the plans are not communicated well, leading to only a few people truly driving the plan forward effectively.\"\n",
    "<hr>"
   ]
  },
  {
   "cell_type": "markdown",
   "metadata": {},
   "source": [
    "## References"
   ]
  },
  {
   "cell_type": "markdown",
   "metadata": {},
   "source": [
    "- [1] High, P. (2016, November 08). Five Steps To A Better IT Strategy. Retrieved July 13, 2018, from https://www.forbes.com/sites/peterhigh/2016/11/07/five-steps-to-a-better-it-strategy/#214aa9245d5f\n",
    "- [2] Mind Tools Contents Team. (n.d.). SWOT AnalysisDiscover New Opportunities, Manage and Eliminate Threats. Retrieved July 14, 2018, from https://www.mindtools.com/pages/article/newTMC_05.htm\n",
    "- [3] Ghanbari, M. (2014, June 16). Business Goals vs. Objectives vs. Strategies vs. Tactics. Retrieved July 14, 2018, from https://www.linkedin.com/pulse/20140616055721-142774715-business-goals-vs-objectives-vs-strategies-vs-tactics/\n",
    "- [4] MSG. (n.d.). MSG Management  Study  Guide. Retrieved July 14, 2018, from https://www.managementstudyguide.com/strategy-evaluation.htm"
   ]
  }
 ],
 "metadata": {
  "kernelspec": {
   "display_name": "Python 3",
   "language": "python",
   "name": "python3"
  },
  "language_info": {
   "codemirror_mode": {
    "name": "ipython",
    "version": 3
   },
   "file_extension": ".py",
   "mimetype": "text/x-python",
   "name": "python",
   "nbconvert_exporter": "python",
   "pygments_lexer": "ipython3",
   "version": "3.6.4"
  }
 },
 "nbformat": 4,
 "nbformat_minor": 2
}
